{
 "cells": [
  {
   "cell_type": "code",
   "execution_count": null,
   "id": "74155681",
   "metadata": {},
   "outputs": [],
   "source": [
    "import pandas as pd \n",
    "import requests\n",
    "import seaborn as sns\n",
    "import matplotlib.pyplot as plt\n",
    "import statsmodels.api as sm"
   ]
  },
  {
   "cell_type": "markdown",
   "id": "0766aa84",
   "metadata": {},
   "source": [
    "## Data Collection \n",
    "- **Exports by Value (GASTAT)**  \n",
    "  Monthly export values, broken down by item nature (Raw, Semi-Finished, Finished).  \n",
    "  → Used as the dependent variable (trade performance).  \n",
    "\n",
    "- **Industrial Production Index (IPI)**  \n",
    "  Monthly production activity by sector (Mining, Manufacturing, Electricity/Gas), base year 2010=100.  \n",
    "  → Used as the independent variables to capture production-side effects on exports.  "
   ]
  },
  {
   "cell_type": "code",
   "execution_count": 183,
   "id": "d0ef0766",
   "metadata": {},
   "outputs": [],
   "source": [
    "# Reading the Industrial Production Index (IPI) dataset from CSV\n",
    "ipi_df = pd.read_csv(\"/Users/farahalhanaya/saudi-trade-ols/Data/index-of-industrial-production-by-section.csv\", sep=None, engine=\"python\")"
   ]
  },
  {
   "cell_type": "code",
   "execution_count": 184,
   "id": "67a1ebd5",
   "metadata": {},
   "outputs": [],
   "source": [
    "'''\n",
    "Fetch exports data directly from the API instead of downloading,\n",
    "as the raw dataset is very large. \n",
    "\n",
    "'''\n",
    "exports_url = \"https://database.stats.gov.sa/gastatapi/portal/api/v1/indicators/getData?format=@JSON&api=4111fc52573dfdb7693ec107d8cefe2aee5ff19da62d0ccb82d6c8e626218c19938e942f34ac1f7e2a12176c2ab85f2b8d07752abe70ae7d93510023ce6ac0d1744ddfede8a75743f3362fc678ef0ea472caddadb15fafbf6a57b981e7e1e04c2cb772986fde142c93127cfeca33024d4a1c2a64973596f23ef7b358a134d36e9bb571221e0f65630e21b78a662063b5\"\n",
    "resp = requests.get(exports_url).json()\n"
   ]
  },
  {
   "cell_type": "code",
   "execution_count": 187,
   "id": "22f19579",
   "metadata": {},
   "outputs": [
    {
     "data": {
      "text/html": [
       "<div>\n",
       "<style scoped>\n",
       "    .dataframe tbody tr th:only-of-type {\n",
       "        vertical-align: middle;\n",
       "    }\n",
       "\n",
       "    .dataframe tbody tr th {\n",
       "        vertical-align: top;\n",
       "    }\n",
       "\n",
       "    .dataframe thead th {\n",
       "        text-align: right;\n",
       "    }\n",
       "</style>\n",
       "<table border=\"1\" class=\"dataframe\">\n",
       "  <thead>\n",
       "    <tr style=\"text-align: right;\">\n",
       "      <th></th>\n",
       "      <th>YEAR_TIME</th>\n",
       "      <th>NATURE_CODE</th>\n",
       "      <th>MONTH_TIME</th>\n",
       "      <th>NATURE_ENGL</th>\n",
       "      <th>OBSVALUE_OBSV</th>\n",
       "    </tr>\n",
       "  </thead>\n",
       "  <tbody>\n",
       "    <tr>\n",
       "      <th>0</th>\n",
       "      <td>2021</td>\n",
       "      <td>3</td>\n",
       "      <td>03</td>\n",
       "      <td>Finished Products</td>\n",
       "      <td>14066490955</td>\n",
       "    </tr>\n",
       "    <tr>\n",
       "      <th>1</th>\n",
       "      <td>2015</td>\n",
       "      <td>2</td>\n",
       "      <td>02</td>\n",
       "      <td>Semi-Finished Products</td>\n",
       "      <td>10399184772</td>\n",
       "    </tr>\n",
       "    <tr>\n",
       "      <th>2</th>\n",
       "      <td>2015</td>\n",
       "      <td>3</td>\n",
       "      <td>11</td>\n",
       "      <td>Finished Products</td>\n",
       "      <td>10528973152</td>\n",
       "    </tr>\n",
       "    <tr>\n",
       "      <th>3</th>\n",
       "      <td>2017</td>\n",
       "      <td>1</td>\n",
       "      <td>05</td>\n",
       "      <td>Raw Material</td>\n",
       "      <td>39455503264</td>\n",
       "    </tr>\n",
       "    <tr>\n",
       "      <th>4</th>\n",
       "      <td>2024</td>\n",
       "      <td>3</td>\n",
       "      <td>02</td>\n",
       "      <td>Finished Products</td>\n",
       "      <td>23471017998</td>\n",
       "    </tr>\n",
       "  </tbody>\n",
       "</table>\n",
       "</div>"
      ],
      "text/plain": [
       "  YEAR_TIME NATURE_CODE MONTH_TIME             NATURE_ENGL OBSVALUE_OBSV\n",
       "0      2021           3         03       Finished Products   14066490955\n",
       "1      2015           2         02  Semi-Finished Products   10399184772\n",
       "2      2015           3         11       Finished Products   10528973152\n",
       "3      2017           1         05            Raw Material   39455503264\n",
       "4      2024           3         02       Finished Products   23471017998"
      ]
     },
     "execution_count": 187,
     "metadata": {},
     "output_type": "execute_result"
    }
   ],
   "source": [
    "# Normalize the JSON response to flatten nested records into a tabular format\n",
    "exports_df = pd.json_normalize(resp['items'])\n",
    "exports_df.head(5)"
   ]
  },
  {
   "cell_type": "markdown",
   "id": "4cceb425",
   "metadata": {},
   "source": [
    "## Data Preparation  \n",
    "\n",
    "- Linked the year and month in the exports data into one `Date` column (YYYY-MM) so it matches the format in the IPI data.  \n",
    "\n",
    "- Filtered the exports data to keep only the years that exist in the IPI dataset, so both are on the same timeline and the analysis is more accurate.  \n",
    "\n",
    "- Pivoted the exports data so Raw, Semi-Finished, and Finished exports are separate columns. This also made it easy to add a `Total_Exports` column.  \n",
    "\n",
    "- Merged the exports and IPI data on the `Date` column, so for each month we can compare exports directly with the production indices.  \n"
   ]
  },
  {
   "cell_type": "code",
   "execution_count": 189,
   "id": "86fcba3d",
   "metadata": {},
   "outputs": [],
   "source": [
    "exports_df['YEAR_TIME'] = exports_df['YEAR_TIME'].astype(str)\n",
    "exports_df['MONTH_TIME'] = exports_df['MONTH_TIME'].astype(str).str.zfill(2)\n",
    "\n",
    "# Combine into YYYY-MM format\n",
    "exports_df['Date'] = exports_df['YEAR_TIME'] + '-' + exports_df['MONTH_TIME']\n"
   ]
  },
  {
   "cell_type": "code",
   "execution_count": 190,
   "id": "c814006f",
   "metadata": {},
   "outputs": [
    {
     "data": {
      "text/html": [
       "<div>\n",
       "<style scoped>\n",
       "    .dataframe tbody tr th:only-of-type {\n",
       "        vertical-align: middle;\n",
       "    }\n",
       "\n",
       "    .dataframe tbody tr th {\n",
       "        vertical-align: top;\n",
       "    }\n",
       "\n",
       "    .dataframe thead th {\n",
       "        text-align: right;\n",
       "    }\n",
       "</style>\n",
       "<table border=\"1\" class=\"dataframe\">\n",
       "  <thead>\n",
       "    <tr style=\"text-align: right;\">\n",
       "      <th></th>\n",
       "      <th>YEAR_TIME</th>\n",
       "      <th>NATURE_CODE</th>\n",
       "      <th>MONTH_TIME</th>\n",
       "      <th>NATURE_ENGL</th>\n",
       "      <th>OBSVALUE_OBSV</th>\n",
       "      <th>Date</th>\n",
       "    </tr>\n",
       "  </thead>\n",
       "  <tbody>\n",
       "    <tr>\n",
       "      <th>0</th>\n",
       "      <td>2021</td>\n",
       "      <td>3</td>\n",
       "      <td>03</td>\n",
       "      <td>Finished Products</td>\n",
       "      <td>14066490955</td>\n",
       "      <td>2021-03</td>\n",
       "    </tr>\n",
       "    <tr>\n",
       "      <th>1</th>\n",
       "      <td>2015</td>\n",
       "      <td>2</td>\n",
       "      <td>02</td>\n",
       "      <td>Semi-Finished Products</td>\n",
       "      <td>10399184772</td>\n",
       "      <td>2015-02</td>\n",
       "    </tr>\n",
       "    <tr>\n",
       "      <th>2</th>\n",
       "      <td>2015</td>\n",
       "      <td>3</td>\n",
       "      <td>11</td>\n",
       "      <td>Finished Products</td>\n",
       "      <td>10528973152</td>\n",
       "      <td>2015-11</td>\n",
       "    </tr>\n",
       "    <tr>\n",
       "      <th>3</th>\n",
       "      <td>2017</td>\n",
       "      <td>1</td>\n",
       "      <td>05</td>\n",
       "      <td>Raw Material</td>\n",
       "      <td>39455503264</td>\n",
       "      <td>2017-05</td>\n",
       "    </tr>\n",
       "    <tr>\n",
       "      <th>4</th>\n",
       "      <td>2024</td>\n",
       "      <td>3</td>\n",
       "      <td>02</td>\n",
       "      <td>Finished Products</td>\n",
       "      <td>23471017998</td>\n",
       "      <td>2024-02</td>\n",
       "    </tr>\n",
       "  </tbody>\n",
       "</table>\n",
       "</div>"
      ],
      "text/plain": [
       "  YEAR_TIME NATURE_CODE MONTH_TIME             NATURE_ENGL OBSVALUE_OBSV  \\\n",
       "0      2021           3         03       Finished Products   14066490955   \n",
       "1      2015           2         02  Semi-Finished Products   10399184772   \n",
       "2      2015           3         11       Finished Products   10528973152   \n",
       "3      2017           1         05            Raw Material   39455503264   \n",
       "4      2024           3         02       Finished Products   23471017998   \n",
       "\n",
       "      Date  \n",
       "0  2021-03  \n",
       "1  2015-02  \n",
       "2  2015-11  \n",
       "3  2017-05  \n",
       "4  2024-02  "
      ]
     },
     "execution_count": 190,
     "metadata": {},
     "output_type": "execute_result"
    }
   ],
   "source": [
    "exports_df.head(5)"
   ]
  },
  {
   "cell_type": "code",
   "execution_count": 191,
   "id": "d8899825",
   "metadata": {},
   "outputs": [
    {
     "name": "stdout",
     "output_type": "stream",
     "text": [
      "IPI years available in the dataset: [np.int32(2018), np.int32(2019), np.int32(2020), np.int32(2023), np.int32(2024), np.int32(2025)]\n"
     ]
    }
   ],
   "source": [
    "ipi_df.rename(columns={\"﻿Date\": \"Date\"}, inplace=True)\n",
    "ipi_df['Date'] = pd.to_datetime(ipi_df['Date'], errors=\"coerce\")\n",
    "\n",
    "ipi_years = ipi_df['Date'].dt.year.unique()\n",
    "print(\"IPI years available in the dataset:\", sorted(ipi_years))\n",
    "\n",
    "ipi_df['Date'] = ipi_df['Date'].dt.strftime(\"%Y-%m\")\n"
   ]
  },
  {
   "cell_type": "code",
   "execution_count": 192,
   "id": "bdae6517",
   "metadata": {},
   "outputs": [],
   "source": [
    "exports_df['Year'] = exports_df['Date'].str[:4].astype(int)\n",
    "exports_df = exports_df[exports_df['Year'].isin(ipi_years)]\n"
   ]
  },
  {
   "cell_type": "code",
   "execution_count": 181,
   "id": "06b95214",
   "metadata": {},
   "outputs": [
    {
     "data": {
      "text/plain": [
       "(201, 7)"
      ]
     },
     "execution_count": 181,
     "metadata": {},
     "output_type": "execute_result"
    }
   ],
   "source": [
    "exports_df.shape"
   ]
  },
  {
   "cell_type": "code",
   "execution_count": 199,
   "id": "e02d8691",
   "metadata": {},
   "outputs": [
    {
     "data": {
      "text/plain": [
       "(201, 3)"
      ]
     },
     "execution_count": 199,
     "metadata": {},
     "output_type": "execute_result"
    }
   ],
   "source": [
    "ipi_df.shape"
   ]
  },
  {
   "cell_type": "code",
   "execution_count": null,
   "id": "695fb243",
   "metadata": {},
   "outputs": [],
   "source": [
    "ipi_wide = ipi_df.pivot(\n",
    "    index=\"Date\",\n",
    "    columns=\"Economic Activity\",\n",
    "    values=\"Industrial Production Index (IPI)\"\n",
    ").reset_index()\n",
    "\n",
    "ipi_wide.rename(columns={\n",
    "    \"Mining and Quarrying\": \"Mining_IPI\",\n",
    "    \"Manufacturing Industry\": \"Manufacturing_IPI\",\n",
    "    \"Electricity, gas, steam and air conditioning supply\": \"ElectricityGas_IPI\"\n",
    "}, inplace=True)\n"
   ]
  },
  {
   "cell_type": "code",
   "execution_count": null,
   "id": "3b1fb13c",
   "metadata": {},
   "outputs": [],
   "source": [
    "exports_wide = exports_df.pivot(\n",
    "    index=\"Date\",\n",
    "    columns=\"NATURE_ENGL\",\n",
    "    values=\"OBSVALUE_OBSV\"\n",
    ").reset_index()\n",
    "\n",
    "\n",
    "exports_wide.rename(columns={\n",
    "    \"Raw Material\": \"Raw_Exports\",\n",
    "    \"Semi-Finished Products\": \"SemiFinished_Exports\",\n",
    "    \"Finished Products\": \"Finished_Exports\"\n",
    "}, inplace=True)\n"
   ]
  },
  {
   "cell_type": "code",
   "execution_count": 131,
   "id": "68c516be",
   "metadata": {},
   "outputs": [],
   "source": [
    "ipi_wide = ipi_df.pivot_table(\n",
    "    index=\"Date\",\n",
    "    columns=\"Economic Activity\",\n",
    "    values=\"Industrial Production Index (IPI)\",\n",
    "    aggfunc=\"mean\"\n",
    ").reset_index()\n",
    "\n",
    "ipi_wide.rename(columns={\n",
    "    \"Mining and Quarrying\": \"Mining_IPI\",\n",
    "    \"Manufacturing Industry\": \"Manufacturing_IPI\",\n",
    "    \"Electricity, gas, steam and air conditioning supply\": \"ElectricityGas_IPI\"\n",
    "}, inplace=True)\n"
   ]
  },
  {
   "cell_type": "code",
   "execution_count": 193,
   "id": "648edb51",
   "metadata": {},
   "outputs": [
    {
     "data": {
      "text/html": [
       "<div>\n",
       "<style scoped>\n",
       "    .dataframe tbody tr th:only-of-type {\n",
       "        vertical-align: middle;\n",
       "    }\n",
       "\n",
       "    .dataframe tbody tr th {\n",
       "        vertical-align: top;\n",
       "    }\n",
       "\n",
       "    .dataframe thead th {\n",
       "        text-align: right;\n",
       "    }\n",
       "</style>\n",
       "<table border=\"1\" class=\"dataframe\">\n",
       "  <thead>\n",
       "    <tr style=\"text-align: right;\">\n",
       "      <th></th>\n",
       "      <th>Date</th>\n",
       "      <th>Finished_Exports</th>\n",
       "      <th>Raw_Exports</th>\n",
       "      <th>SemiFinished_Exports</th>\n",
       "      <th>Total_Exports</th>\n",
       "      <th>ElectricityGas_IPI</th>\n",
       "      <th>Manufacturing_IPI</th>\n",
       "      <th>Mining_IPI</th>\n",
       "    </tr>\n",
       "  </thead>\n",
       "  <tbody>\n",
       "    <tr>\n",
       "      <th>0</th>\n",
       "      <td>2018-01</td>\n",
       "      <td>14227801490</td>\n",
       "      <td>55980122099</td>\n",
       "      <td>14030593378</td>\n",
       "      <td>559801220991403059337814227801490</td>\n",
       "      <td>60.55</td>\n",
       "      <td>171.27</td>\n",
       "      <td>122.27</td>\n",
       "    </tr>\n",
       "    <tr>\n",
       "      <th>1</th>\n",
       "      <td>2018-02</td>\n",
       "      <td>13539114605</td>\n",
       "      <td>49383815988</td>\n",
       "      <td>14626766097</td>\n",
       "      <td>493838159881462676609713539114605</td>\n",
       "      <td>71.77</td>\n",
       "      <td>173.65</td>\n",
       "      <td>121.68</td>\n",
       "    </tr>\n",
       "    <tr>\n",
       "      <th>2</th>\n",
       "      <td>2018-03</td>\n",
       "      <td>15606879473</td>\n",
       "      <td>51472061479</td>\n",
       "      <td>15367837341</td>\n",
       "      <td>514720614791536783734115606879473</td>\n",
       "      <td>91.95</td>\n",
       "      <td>179.10</td>\n",
       "      <td>121.34</td>\n",
       "    </tr>\n",
       "    <tr>\n",
       "      <th>3</th>\n",
       "      <td>2018-04</td>\n",
       "      <td>16140452208</td>\n",
       "      <td>58268609633</td>\n",
       "      <td>15241250532</td>\n",
       "      <td>582686096331524125053216140452208</td>\n",
       "      <td>115.21</td>\n",
       "      <td>183.92</td>\n",
       "      <td>120.86</td>\n",
       "    </tr>\n",
       "    <tr>\n",
       "      <th>4</th>\n",
       "      <td>2018-05</td>\n",
       "      <td>17362020883</td>\n",
       "      <td>62162495003</td>\n",
       "      <td>16874953260</td>\n",
       "      <td>621624950031687495326017362020883</td>\n",
       "      <td>139.90</td>\n",
       "      <td>185.71</td>\n",
       "      <td>122.84</td>\n",
       "    </tr>\n",
       "  </tbody>\n",
       "</table>\n",
       "</div>"
      ],
      "text/plain": [
       "      Date Finished_Exports  Raw_Exports SemiFinished_Exports  \\\n",
       "0  2018-01      14227801490  55980122099          14030593378   \n",
       "1  2018-02      13539114605  49383815988          14626766097   \n",
       "2  2018-03      15606879473  51472061479          15367837341   \n",
       "3  2018-04      16140452208  58268609633          15241250532   \n",
       "4  2018-05      17362020883  62162495003          16874953260   \n",
       "\n",
       "                       Total_Exports  ElectricityGas_IPI  Manufacturing_IPI  \\\n",
       "0  559801220991403059337814227801490               60.55             171.27   \n",
       "1  493838159881462676609713539114605               71.77             173.65   \n",
       "2  514720614791536783734115606879473               91.95             179.10   \n",
       "3  582686096331524125053216140452208              115.21             183.92   \n",
       "4  621624950031687495326017362020883              139.90             185.71   \n",
       "\n",
       "   Mining_IPI  \n",
       "0      122.27  \n",
       "1      121.68  \n",
       "2      121.34  \n",
       "3      120.86  \n",
       "4      122.84  "
      ]
     },
     "execution_count": 193,
     "metadata": {},
     "output_type": "execute_result"
    }
   ],
   "source": [
    "merged_df = pd.merge(exports_wide, ipi_wide, on=\"Date\", how=\"inner\")\n",
    "merged_df.head(5)\n",
    "\n"
   ]
  },
  {
   "cell_type": "markdown",
   "id": "43c9ee27",
   "metadata": {},
   "source": [
    "## OLS Regression  \n",
    "\n",
    "- Started with a correlation heatmap to see how the variables are linked together.  \n",
    "\n",
    "- Built the OLS regression model with Total Exports as the dependent variable and the three IPI sectors (Mining, Manufacturing, Electricity/Gas) as the independent variables.  \n",
    "\n",
    "- The model helps us check how changes in industrial production are affecting Saudi Arabia’s trade performance, and also gives us predicted exports based on the IPIs.  \n"
   ]
  },
  {
   "cell_type": "code",
   "execution_count": null,
   "id": "93f6aea3",
   "metadata": {},
   "outputs": [],
   "source": [
    "# Getting the total exports by summing all the sub exports\n",
    "merged_df['Total_Exports'] = (\n",
    "    pd.to_numeric(merged_df['Raw_Exports'], errors='coerce') +\n",
    "    pd.to_numeric(merged_df['SemiFinished_Exports'], errors='coerce') +\n",
    "    pd.to_numeric(merged_df['Finished_Exports'], errors='coerce')\n",
    ")"
   ]
  },
  {
   "cell_type": "code",
   "execution_count": 195,
   "id": "14b1606d",
   "metadata": {},
   "outputs": [
    {
     "data": {
      "image/png": "[encoded data removed]",
      "text/plain": [
       "<Figure size 800x600 with 2 Axes>"
      ]
     },
     "metadata": {},
     "output_type": "display_data"
    }
   ],
   "source": [
    "'''\n",
    "In this heatmap, we check how each independent variable (IPI sector) is correlated with Total Exports. \n",
    "This helps us see which sector moves more closely with exports before running the regression.\n",
    "\n",
    "'''\n",
    "corr = merged_df[['Total_Exports',\n",
    "                  'Mining_IPI','Manufacturing_IPI','ElectricityGas_IPI']].corr()\n",
    "\n",
    "plt.figure(figsize=(8,6))\n",
    "sns.heatmap(corr, annot=True, cmap=\"coolwarm\", fmt=\".2f\")\n",
    "plt.title(\"Correlation between Total Exports and IPI Sectors\")\n",
    "plt.show()\n"
   ]
  },
  {
   "cell_type": "code",
   "execution_count": null,
   "id": "8f03634e",
   "metadata": {},
   "outputs": [
    {
     "name": "stdout",
     "output_type": "stream",
     "text": [
      "                            OLS Regression Results                            \n",
      "==============================================================================\n",
      "Dep. Variable:          Total_Exports   R-squared:                       0.152\n",
      "Model:                            OLS   Adj. R-squared:                  0.111\n",
      "Method:                 Least Squares   F-statistic:                     3.757\n",
      "Date:                Sat, 20 Sep 2025   Prob (F-statistic):             0.0151\n",
      "Time:                        22:25:24   Log-Likelihood:                -1668.9\n",
      "No. Observations:                  67   AIC:                             3346.\n",
      "Df Residuals:                      63   BIC:                             3355.\n",
      "Df Model:                           3                                         \n",
      "Covariance Type:            nonrobust                                         \n",
      "======================================================================================\n",
      "                         coef    std err          t      P>|t|      [0.025      0.975]\n",
      "--------------------------------------------------------------------------------------\n",
      "const               1.432e+11   2.22e+10      6.440      0.000    9.88e+10    1.88e+11\n",
      "Mining_IPI         -7.116e+08   2.26e+08     -3.144      0.003   -1.16e+09   -2.59e+08\n",
      "Manufacturing_IPI   2.887e+08    1.2e+08      2.415      0.019    4.99e+07    5.28e+08\n",
      "ElectricityGas_IPI -1.456e+08   7.52e+07     -1.936      0.057   -2.96e+08    4.68e+06\n",
      "==============================================================================\n",
      "Omnibus:                       10.039   Durbin-Watson:                   0.371\n",
      "Prob(Omnibus):                  0.007   Jarque-Bera (JB):                9.872\n",
      "Skew:                          -0.895   Prob(JB):                      0.00718\n",
      "Kurtosis:                       3.575   Cond. No.                     2.29e+03\n",
      "==============================================================================\n",
      "\n",
      "Notes:\n",
      "[1] Standard Errors assume that the covariance matrix of the errors is correctly specified.\n",
      "[2] The condition number is large, 2.29e+03. This might indicate that there are\n",
      "strong multicollinearity or other numerical problems.\n"
     ]
    }
   ],
   "source": [
    "# Independent variables (X) which is the IPI sectors we’re testing as predictors\n",
    "X = merged_df[['Mining_IPI','Manufacturing_IPI','ElectricityGas_IPI']]\n",
    "X = sm.add_constant(X) \n",
    "\n",
    "# Dependent variable (y) which is the total exports that we want to predict\n",
    "y = merged_df['Total_Exports']\n",
    "\n",
    "ols_model = sm.OLS(y, X).fit()\n",
    "print(ols_model.summary())\n"
   ]
  },
  {
   "cell_type": "code",
   "execution_count": 173,
   "id": "995df6e0",
   "metadata": {},
   "outputs": [
    {
     "data": {
      "image/png": "[encoded data removed]",
      "text/plain": [
       "<Figure size 800x600 with 1 Axes>"
      ]
     },
     "metadata": {},
     "output_type": "display_data"
    }
   ],
   "source": [
    "y_pred = ols_model.predict(X)\n",
    "\n",
    "plt.figure(figsize=(8,6))\n",
    "plt.scatter(y, y_pred, alpha=0.7)\n",
    "plt.plot([y.min(), y.max()], [y.min(), y.max()], 'r--') \n",
    "plt.xlabel(\"Actual Exports\")\n",
    "plt.ylabel(\"Predicted Exports\")\n",
    "plt.title(\"Actual vs Predicted Exports (OLS)\")\n",
    "plt.show()\n"
   ]
  },
  {
   "cell_type": "markdown",
   "id": "d7c9576d",
   "metadata": {},
   "source": [
    "## Model Interpretation\n",
    "\n",
    "From the regression results, the IPIs we used (Mining, Manufacturing, Electricity/Gas) explain about **15% of the changes in total exports**.  \n",
    "\n",
    "- **Mining_IPI** → negative and significant.  \n",
    "  If mining activity goes up, exports actually go down.  \n",
    "\n",
    "- **Manufacturing_IPI** → positive and significant.  \n",
    "  When manufacturing increases, exports increase too.  \n",
    "\n",
    "- **ElectricityGas_IPI** → weak negative effect, almost significant.  \n",
    "  Higher electricity/gas activity might slightly lower exports, but it’s not very strong.  \n",
    "\n",
    "The scatter plot (actual vs predicted) shows that the model is following the general export trend, but it still underestimates the higher values and overestimates the lower ones.  \n",
    "\n",
    "The R² is not high, so clearly exports are also affected by other factors (like oil prices, global demand, policies, etc.), not just the IPIs.  \n",
    "\n",
    "### Concerns\n",
    "There are a few things to keep in mind:  \n",
    "- The residuals show autocorrelation (Durbin-Watson = 0.37), which is common with time-series data.  \n",
    "- The IPIs are correlated with each other, so there’s some multicollinearity.  \n",
    "- The spread of errors isn’t even, meaning heteroscedasticity might be present.  \n",
    "- Residuals are also not perfectly normal, which affects how reliable the predictions are.  \n",
    "\n",
    "### Recommendations\n",
    "- What stands out is that manufacturing is the strongest positive link with exports. Mining, on the other hand, pulls exports down, while electricity/gas has a small negative role. Based on this, strengthening manufacturing capacity and making energy use more efficient could support trade. At the same time, relying too heavily on mining exports doesn’t seem to boost performance, so diversifying into other areas and connecting exports more with global demand and trade agreements might be more effective.  \n",
    "\n",
    "Overall, the model gives a good starting point, but it also makes it clear that exports are shaped by bigger global and policy factors beyond local production activity.  \n"
   ]
  }
 ],
 "metadata": {
  "kernelspec": {
   "display_name": "Python 3",
   "language": "python",
   "name": "python3"
  },
  "language_info": {
   "codemirror_mode": {
    "name": "ipython",
    "version": 3
   },
   "file_extension": ".py",
   "mimetype": "text/x-python",
   "name": "python",
   "nbconvert_exporter": "python",
   "pygments_lexer": "ipython3",
   "version": "3.9.6"
  }
 },
 "nbformat": 4,
 "nbformat_minor": 5
}
